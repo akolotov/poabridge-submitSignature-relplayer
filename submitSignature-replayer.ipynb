{
 "cells": [
  {
   "cell_type": "code",
   "execution_count": null,
   "id": "857112eb-9ca7-40b7-b083-62f647ad8130",
   "metadata": {},
   "outputs": [],
   "source": [
    "import sys\n",
    "\n",
    "import toml\n",
    "from json import load, loads\n",
    "from os import listdir\n",
    "from os.path import isfile, join\n",
    "import argparse\n",
    "\n",
    "from web3 import Web3, HTTPProvider\n",
    "from eth_account import Account\n",
    "from urllib import request\n",
    "from urllib.error import URLError, HTTPError\n",
    "\n",
    "import logging"
   ]
  },
  {
   "cell_type": "code",
   "execution_count": null,
   "id": "d5cc87b1-6ab0-4b0e-a98f-b3253e2ca0a8",
   "metadata": {},
   "outputs": [],
   "source": [
    "logging.basicConfig(format='%(levelname)s:%(message)s', \n",
    "                    level=logging.INFO)"
   ]
  },
  {
   "cell_type": "code",
   "execution_count": null,
   "id": "1ade8cb6-52d7-4d2d-8c67-262512616f51",
   "metadata": {},
   "outputs": [],
   "source": [
    "DEFAULT_CONFIG_FILE = 'config.toml'\n",
    "GAS_PRICE_SPEED = 'fast'\n",
    "GAS_PRICE_ORACLE_URL = 'http://ethgas.watch/api/gas'"
   ]
  },
  {
   "cell_type": "code",
   "execution_count": null,
   "id": "04d8370f-e3da-4935-8597-f5d24cd571f1",
   "metadata": {},
   "outputs": [],
   "source": [
    "parser = argparse.ArgumentParser(description='submitSignature relayer')\n",
    "parser.add_argument('-c', dest='config', default=DEFAULT_CONFIG_FILE, metavar='<toml-file>')\n",
    "parser.add_argument('transaction')\n",
    "args = parser.parse_args(['0x1234...cdef'])\n",
    "\n",
    "config_file = args.config\n",
    "cloned_tx = args.transaction\n",
    "logging.info(f'Tx to be cloned: {cloned_tx}')\n",
    "logging.info(f'Config file: {config_file}')\n",
    "\n",
    "with open(config_file) as toml_file:\n",
    "    config = toml.load(toml_file)\n",
    "logging.info(f'Config file read')\n",
    "\n",
    "keys_dir = config['keystore']\n",
    "onlyfiles = [f for f in listdir(keys_dir) if isfile(join(keys_dir, f))]\n",
    "if len(onlyfiles) > 0:\n",
    "    key_file = join(keys_dir, onlyfiles[0])\n",
    "else:\n",
    "    raise OSError('Cannot find the key files')\n",
    "logging.info(f'Keyfile found in \"{key_file}\"')\n",
    "\n",
    "pass_file = config['foreign']['password']\n",
    "with open(pass_file) as txt_file:\n",
    "    key_pass = txt_file.readlines()[0].strip()\n",
    "logging.info(f'Password read')\n",
    "\n",
    "web3_provider = config['foreign']['rpc_host']\n",
    "logging.info(f'Using RPC URL \"{web3_provider}\"')\n",
    "\n",
    "gas_limit = config['transactions']['withdraw_confirm']['gas']\n",
    "logging.info(f'Using gas limit {gas_limit}')"
   ]
  },
  {
   "cell_type": "code",
   "execution_count": null,
   "id": "4f46ebcd-286a-45f9-a740-1357c230354b",
   "metadata": {},
   "outputs": [],
   "source": [
    "with open(key_file) as json_file:\n",
    "    encrypted = load(json_file)\n",
    "logging.info(f'Keyfile read for 0x{encrypted[\"address\"]}')"
   ]
  },
  {
   "cell_type": "code",
   "execution_count": null,
   "id": "32a2c8ca-cc52-4669-8ab3-ccc1d444e60d",
   "metadata": {},
   "outputs": [],
   "source": [
    "try:\n",
    "    pk = Account.decrypt(encrypted, key_pass)\n",
    "except:\n",
    "    logging.error('Cannot decrypt the key')\n",
    "    raise sys.exc_info()[1]\n",
    "\n",
    "acc = Account.privateKeyToAccount(pk)\n",
    "logging.info(f'Keyfile decrypted successfully')"
   ]
  },
  {
   "cell_type": "code",
   "execution_count": null,
   "id": "e325ed78-ef97-4774-93e7-4c7c633b2fad",
   "metadata": {},
   "outputs": [],
   "source": [
    "w3 = Web3(HTTPProvider(web3_provider))"
   ]
  },
  {
   "cell_type": "code",
   "execution_count": null,
   "id": "ba889aa1-e611-44d4-a1b2-3b647d1f84e3",
   "metadata": {},
   "outputs": [],
   "source": [
    "try: \n",
    "    response = request.urlopen(GAS_PRICE_ORACLE_URL)\n",
    "    raw_data = response.readlines()\n",
    "    data_json = loads(raw_data[0])\n",
    "    gas_price = Web3.toWei(data_json[GAS_PRICE_SPEED]['gwei'], 'gwei')\n",
    "except URLError:\n",
    "    logging.warning('Gas Price Oracle is not available')\n",
    "    gas_price = Web3.toWei(21, 'gwei')\n",
    "logging.info(f'Using gas price {gas_price}')"
   ]
  },
  {
   "cell_type": "code",
   "execution_count": null,
   "id": "4d0fab0b-4f71-4e1a-b7a7-7be4ff2e7990",
   "metadata": {},
   "outputs": [],
   "source": [
    "try:\n",
    "    chainid = w3.eth.chain_id\n",
    "except:\n",
    "    logging.error(f'Transaction count cannot be received')\n",
    "    raise sys.exc_info()[1]\n",
    "\n",
    "logging.info(f'Using chain id {chainid}')"
   ]
  },
  {
   "cell_type": "code",
   "execution_count": null,
   "id": "2c725d56-b43d-40cb-b320-60fb7edba26b",
   "metadata": {},
   "outputs": [],
   "source": [
    "try:\n",
    "    nonce = w3.eth.getTransactionCount(acc.address)\n",
    "except:\n",
    "    logging.error(f'Transaction count cannot be received')\n",
    "    raise sys.exc_info()[1]\n",
    "\n",
    "logging.info(f'Using nonce {nonce}')"
   ]
  },
  {
   "cell_type": "code",
   "execution_count": null,
   "id": "d30f574c-f895-4b12-9e41-335e2948f47a",
   "metadata": {},
   "outputs": [],
   "source": [
    "try:\n",
    "    origin_tx = w3.eth.getTransaction(cloned_tx)\n",
    "except:\n",
    "    logging.error(f'Base transaction cannot be found')\n",
    "    raise sys.exc_info()[1]\n",
    "\n",
    "logging.info(f'Tx found in the block {origin_tx.blockNumber}')"
   ]
  },
  {
   "cell_type": "code",
   "execution_count": null,
   "id": "96d96b9f-8d51-4512-9a10-23c39d58f78e",
   "metadata": {},
   "outputs": [],
   "source": [
    "tx = {\n",
    "    'from': acc.address,\n",
    "    'chain': chainid,\n",
    "    'to': origin_tx['to'],\n",
    "    'gasPrice': gas_price,\n",
    "    'data': origin_tx['input'],\n",
    "    'nonce': nonce,\n",
    "    'value': 0\n",
    "}"
   ]
  },
  {
   "cell_type": "code",
   "execution_count": null,
   "id": "29864f2f-7d42-4d73-a644-c650ddef633a",
   "metadata": {},
   "outputs": [],
   "source": [
    "try:\n",
    "    gas_limit = w3.eth.estimate_gas(tx)\n",
    "except:\n",
    "    logging.error(f'Cannot estimate gas')\n",
    "    raise sys.exc_info()[1]\n",
    "\n",
    "gas_limit = int(gas_limit * 1.25)\n",
    "logging.info(f'Usign gas limit {gas_limit}')\n",
    "\n",
    "tx['gas'] = gas_limit"
   ]
  },
  {
   "cell_type": "code",
   "execution_count": null,
   "id": "d73a342f-755e-44e1-9a7f-ae1396f8831b",
   "metadata": {},
   "outputs": [],
   "source": [
    "raw_tx = acc.signTransaction(tx)\n",
    "logging.info(f'New tx prepared and signed')"
   ]
  },
  {
   "cell_type": "code",
   "execution_count": null,
   "id": "6a44c801-b69e-4af1-bf95-889c04698a27",
   "metadata": {},
   "outputs": [],
   "source": [
    "try:\n",
    "    tx_hash = w3.eth.sendRawTransaction(raw_tx.rawTransaction)\n",
    "except:\n",
    "    logging.error(f'Transaction was not sent')\n",
    "    raise sys.exc_info()[1]\n",
    "\n",
    "logging.info(f'Transaction {Web3.toHex(tx_hash)} sent')"
   ]
  },
  {
   "cell_type": "code",
   "execution_count": null,
   "id": "9719b94f-3eac-4f2a-88d0-2a55e4462a00",
   "metadata": {},
   "outputs": [],
   "source": [
    "try:\n",
    "    receipt = w3.eth.wait_for_transaction_receipt(tx_hash, timeout=300, poll_latency=1)\n",
    "except:\n",
    "    logging.error(f'Transaction receipt cannot be found')\n",
    "    receipt = None\n",
    "    raise sys.exc_info()[1]\n",
    "\n",
    "if (receipt != None):\n",
    "    if (receipt.status == 0):\n",
    "        logging.error(f'Transaction failed')\n",
    "    else:\n",
    "        logging.info(f'Transaction successfully included in block {receipt.blockNumber}')"
   ]
  }
 ],
 "metadata": {
  "kernelspec": {
   "display_name": "Python 3",
   "language": "python",
   "name": "python3"
  },
  "language_info": {
   "codemirror_mode": {
    "name": "ipython",
    "version": 3
   },
   "file_extension": ".py",
   "mimetype": "text/x-python",
   "name": "python",
   "nbconvert_exporter": "python",
   "pygments_lexer": "ipython3",
   "version": "3.8.8"
  }
 },
 "nbformat": 4,
 "nbformat_minor": 5
}
